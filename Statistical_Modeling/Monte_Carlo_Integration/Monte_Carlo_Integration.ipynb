{
  "nbformat": 4,
  "nbformat_minor": 0,
  "metadata": {
    "colab": {
      "provenance": []
    },
    "kernelspec": {
      "name": "python3",
      "display_name": "Python 3"
    },
    "language_info": {
      "name": "python"
    }
  },
  "cells": [
    {
      "cell_type": "code",
      "source": [
        "import numpy as np\n",
        "\n",
        "def sample_points(num_points, dim):\n",
        "    return np.random.rand(num_points, dim)\n",
        "\n",
        "def monte_carlo_integration(func, num_points, dim):\n",
        "    points = sample_points(num_points, dim)\n",
        "    integral = np.mean(func(points))\n",
        "    return integral\n",
        "\n",
        "# Example 3D function\n",
        "def example_function(x):\n",
        "    return np.sin(x[:, 0]) * np.cos(x[:, 1]) + x[:, 2]**2\n",
        "\n",
        "# Parameters\n",
        "num_points = 10000\n",
        "dimension = 3\n",
        "\n",
        "# Perform Monte Carlo integration\n",
        "monte_carlo_result = monte_carlo_integration(example_function, num_points, dimension)\n",
        "\n",
        "print(f\"Monte Carlo Integration Result: {monte_carlo_result}\")\n"
      ],
      "metadata": {
        "colab": {
          "base_uri": "https://localhost:8080/"
        },
        "id": "PkOk10DiWWPy",
        "outputId": "6ade334d-8699-4187-a5ef-7306b02b161c"
      },
      "execution_count": 8,
      "outputs": [
        {
          "output_type": "stream",
          "name": "stdout",
          "text": [
            "Monte Carlo Integration Result: 0.7140150956225088\n"
          ]
        }
      ]
    }
  ]
}